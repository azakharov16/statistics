{
 "cells": [
  {
   "cell_type": "code",
   "execution_count": 17,
   "metadata": {},
   "outputs": [],
   "source": [
    "import numpy as np\n",
    "from functools import partial"
   ]
  },
  {
   "cell_type": "code",
   "execution_count": 2,
   "metadata": {},
   "outputs": [],
   "source": [
    "def jackknife_estimate(array, func):\n",
    "    theta_arr = []\n",
    "    for i in range(len(array)):\n",
    "        array_i = np.delete(array, i)\n",
    "        theta_i = func(array_i)\n",
    "        theta_arr.append(theta_i)\n",
    "    return np.mean(np.array(theta_arr))"
   ]
  },
  {
   "cell_type": "code",
   "execution_count": 7,
   "metadata": {},
   "outputs": [
    {
     "name": "stdout",
     "output_type": "stream",
     "text": [
      "4.5 4.5\n"
     ]
    }
   ],
   "source": [
    "x = np.array([1,2,3,4,5,6,7,8,9,0])\n",
    "print(np.mean(x), jackknife_estimate(x, np.mean))"
   ]
  },
  {
   "cell_type": "code",
   "execution_count": 18,
   "metadata": {},
   "outputs": [],
   "source": [
    "std = partial(np.std, ddof=1)"
   ]
  },
  {
   "cell_type": "code",
   "execution_count": 19,
   "metadata": {},
   "outputs": [
    {
     "name": "stdout",
     "output_type": "stream",
     "text": [
      "3.0276503540974917 3.022887750802713\n"
     ]
    }
   ],
   "source": [
    "print(np.std(x, ddof=1), jackknife_estimate(x, std))"
   ]
  },
  {
   "cell_type": "code",
   "execution_count": 9,
   "metadata": {},
   "outputs": [],
   "source": [
    "def jackknife_se(array, func):\n",
    "    theta_jn = jackknife_estimate(array, func)\n",
    "    s = 0.0\n",
    "    for i in range(len(array)):\n",
    "        array_i = np.delete(array, i)\n",
    "        theta_i = func(array_i)\n",
    "        s += pow(theta_i - theta_jn, 2)\n",
    "    return np.sqrt(s * (n - 1) / n)"
   ]
  },
  {
   "cell_type": "code",
   "execution_count": 15,
   "metadata": {},
   "outputs": [
    {
     "name": "stdout",
     "output_type": "stream",
     "text": [
      "0.9574271077563381 0.9574271077563384\n"
     ]
    }
   ],
   "source": [
    "n = len(x)\n",
    "print(np.std(x, ddof=1) / np.sqrt(n), jackknife_se(x, np.mean))"
   ]
  },
  {
   "cell_type": "code",
   "execution_count": null,
   "metadata": {},
   "outputs": [],
   "source": []
  },
  {
   "cell_type": "code",
   "execution_count": null,
   "metadata": {},
   "outputs": [],
   "source": []
  }
 ],
 "metadata": {
  "kernelspec": {
   "display_name": "Python 3",
   "language": "python",
   "name": "python3"
  },
  "language_info": {
   "codemirror_mode": {
    "name": "ipython",
    "version": 3
   },
   "file_extension": ".py",
   "mimetype": "text/x-python",
   "name": "python",
   "nbconvert_exporter": "python",
   "pygments_lexer": "ipython3",
   "version": "3.7.6"
  }
 },
 "nbformat": 4,
 "nbformat_minor": 4
}
