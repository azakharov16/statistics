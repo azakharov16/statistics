{
 "cells": [
  {
   "cell_type": "code",
   "execution_count": 12,
   "metadata": {},
   "outputs": [],
   "source": [
    "import numpy as np\n",
    "import pandas as pd\n",
    "import matplotlib.pyplot as plt\n",
    "import scipy.stats as ss\n",
    "plt.style.use('seaborn')"
   ]
  },
  {
   "cell_type": "code",
   "execution_count": 10,
   "metadata": {},
   "outputs": [],
   "source": [
    "n = 1000\n",
    "phi = 0.8\n",
    "w = np.random.normal(size=n)\n",
    "x = np.zeros(n)\n",
    "x[0] = 0.0\n",
    "for i in range(1, n):\n",
    "    x[i] = phi * x[i - 1] + w[i]"
   ]
  },
  {
   "cell_type": "code",
   "execution_count": 11,
   "metadata": {},
   "outputs": [],
   "source": [
    "def n_turning_points(array):\n",
    "    n = 0\n",
    "    if len(array) == 3:\n",
    "        first = array[0]\n",
    "        mid = array[1]\n",
    "        last = array[2]\n",
    "        if ((mid > first) and (mid > last)) or ((mid < first) and (mid < last)):\n",
    "            n += 1\n",
    "    elif len(array) > 3:\n",
    "        n += n_turning_points(array[:3]) \n",
    "        n += n_turning_points(array[1:])\n",
    "    else:\n",
    "        pass\n",
    "    return n"
   ]
  },
  {
   "cell_type": "code",
   "execution_count": 13,
   "metadata": {},
   "outputs": [],
   "source": [
    "def turning_point_test(series, alpha=0.05):\n",
    "    n = len(series)\n",
    "    n_t = n_turning_points(series)\n",
    "    mu = 2 * n / 3\n",
    "    sigma = np.sqrt(8 * n / 45)\n",
    "    z_crit = ss.norm.ppf(1.0 - alpha / 2.0)\n",
    "    if np.abs(n_t - mu) > z_crit * sigma:\n",
    "        print('The hypothesis of iid is rejected.')\n",
    "        return 0\n",
    "    else:\n",
    "        print('The hypothesis of iid is not rejected.')\n",
    "        return 1"
   ]
  },
  {
   "cell_type": "code",
   "execution_count": 14,
   "metadata": {},
   "outputs": [
    {
     "name": "stdout",
     "output_type": "stream",
     "text": [
      "The hypothesis of iid is not rejected.\n"
     ]
    },
    {
     "data": {
      "text/plain": [
       "1"
      ]
     },
     "execution_count": 14,
     "metadata": {},
     "output_type": "execute_result"
    }
   ],
   "source": [
    "turning_point_test(w)"
   ]
  },
  {
   "cell_type": "code",
   "execution_count": 15,
   "metadata": {},
   "outputs": [
    {
     "name": "stdout",
     "output_type": "stream",
     "text": [
      "The hypothesis of iid is rejected.\n"
     ]
    },
    {
     "data": {
      "text/plain": [
       "0"
      ]
     },
     "execution_count": 15,
     "metadata": {},
     "output_type": "execute_result"
    }
   ],
   "source": [
    "turning_point_test(x)"
   ]
  },
  {
   "cell_type": "code",
   "execution_count": 16,
   "metadata": {},
   "outputs": [],
   "source": [
    "df = pd.DataFrame(columns=['WN', 'AR'])\n",
    "df['WN'] = w\n",
    "df['AR'] = x"
   ]
  },
  {
   "cell_type": "code",
   "execution_count": 18,
   "metadata": {},
   "outputs": [],
   "source": [
    "def find_tp(array):\n",
    "    first = array[0]\n",
    "    mid = array[1]\n",
    "    last = array[2]\n",
    "    if ((mid > first) and (mid > last)) or ((mid < first) and (mid < last)):\n",
    "        return 1\n",
    "    else:\n",
    "        return 0"
   ]
  },
  {
   "cell_type": "code",
   "execution_count": 24,
   "metadata": {},
   "outputs": [],
   "source": [
    "df['WN_tp'] = df['WN'].rolling(3).apply(find_tp, raw=True).fillna(0.0).astype('int')\n",
    "df['AR_tp'] = df['AR'].rolling(3).apply(find_tp, raw=True).fillna(0.0).astype('int')"
   ]
  },
  {
   "cell_type": "code",
   "execution_count": 27,
   "metadata": {},
   "outputs": [
    {
     "name": "stdout",
     "output_type": "stream",
     "text": [
      "The hypothesis of iid is rejected.\n"
     ]
    }
   ],
   "source": [
    "alpha = 0.05\n",
    "n = df.shape[0]\n",
    "n_t = df['AR_tp'].sum()\n",
    "mu = 2 * n / 3\n",
    "sigma = np.sqrt(8 * n / 45)\n",
    "z_crit = ss.norm.ppf(1.0 - alpha / 2.0)\n",
    "if np.abs(n_t - mu) > z_crit * sigma:\n",
    "    print('The hypothesis of iid is rejected.')\n",
    "else:\n",
    "    print('The hypothesis of iid is not rejected.')"
   ]
  },
  {
   "cell_type": "code",
   "execution_count": null,
   "metadata": {},
   "outputs": [],
   "source": []
  }
 ],
 "metadata": {
  "kernelspec": {
   "display_name": "Python 3",
   "language": "python",
   "name": "python3"
  },
  "language_info": {
   "codemirror_mode": {
    "name": "ipython",
    "version": 3
   },
   "file_extension": ".py",
   "mimetype": "text/x-python",
   "name": "python",
   "nbconvert_exporter": "python",
   "pygments_lexer": "ipython3",
   "version": "3.7.4"
  }
 },
 "nbformat": 4,
 "nbformat_minor": 4
}
